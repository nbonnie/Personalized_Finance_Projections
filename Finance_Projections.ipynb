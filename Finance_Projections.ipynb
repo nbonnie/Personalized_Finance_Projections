{
 "cells": [
  {
   "cell_type": "code",
   "execution_count": 103,
   "metadata": {},
   "outputs": [],
   "source": [
    "import matplotlib.pyplot as plt \n",
    "import numpy as np"
   ]
  },
  {
   "cell_type": "code",
   "execution_count": 240,
   "metadata": {},
   "outputs": [],
   "source": [
    "x = np.arange(2022,2091)\n",
    "years = np.arange(0,len(x))\n",
    "\n",
    "#\n",
    "# START USER EDITABLE SECTION\n",
    "#\n",
    "\n",
    "# INCOME PARAMETERS:\n",
    "retire_year = 30   # How many years until retirement\n",
    "year_salary_begin = 0 # years until salary job begins \n",
    "year_max = 20    # Years until maximum income reached\n",
    "initial_salary = 100000   # Consider putting your after-tax salary here\n",
    "max_salary = 250000\n",
    "post_retire_working = 1    # How many years after retirement you'll make partial income\n",
    "post_retire_salary = 50000    #How much you'll make after retirement (can be 0)\n",
    "investment_rate = 40/100    # Percent of income post expenses you'll invest\n",
    "current_savings = 50000\n",
    "\n",
    "# HOME PARAMETERS:\n",
    "year_of_purchase = 1    # How many years until you purchase your home\n",
    "annual_mortgage_expenses = 20400\n",
    "annual_home_expenses = 7000 + 1000 + 3400   # (tax, insurance, expenses)\n",
    "down_payment = 50000\n",
    "loan_length = 30\n",
    "intrest_rate = 3.0   # Varies by mortgage length & credit score\n",
    "year_of_car_purchase = 5\n",
    "price_of_car = 40000\n",
    "\n",
    "# INVESTMENT PARAMETERS\n",
    "init_ira = 20000\n",
    "init_brok = 30000\n",
    "annual_ira = 6000 # Annual IRA contribution\n",
    "invest_after = 5000  # Annual brokerage contribution after retirement (can be 0)\n",
    "years_after_investing = 5  # number of years you'll continue investing after retirement\n",
    "\n",
    "# RENT PARAMETERS\n",
    "year_rent_start = 1\n",
    "year_rent_end = 6   # Last year you will be paying rent (inclusive)\n",
    "annual_rent = 0 \n",
    "\n",
    "#\n",
    "# END USER EDITABLE SECTION\n",
    "#\n",
    "\n",
    "\n",
    "# INCOME MODEL ------------------------------------------------------------------------\n",
    "a = (max_salary-initial_salary) / ((year_max-year_salary_begin)**2)  # Auto calculated weight for steady exponential growth to max\n",
    "income = initial_salary + a*years**2 # + raise rates\n",
    "income[income>max_salary] = max_salary    # Enforce maximum values\n",
    "income[year_max:(retire_year+1)] = max_salary   # sustain max income\n",
    "income[(retire_year + 1)::] = 0       # Default to 0 income\n",
    "income[(retire_year+1):(retire_year+1+post_retire_working)] = post_retire_salary   # Can be used for a \"soft\" retire\n",
    "# Anamoulous situations / known years\n",
    "income[0]    =  current_savings # Set this to \n",
    "#income[1]   = 103000\n",
    "#income[2:7] = 36000    # Grad School Salary\n",
    "\n",
    "\n",
    "# EXPENSE MODEL   --------------------------------------------------------------------\n",
    "rent = np.zeros(len(years))  # Leave these parameters at 0 for no rent\n",
    "rent[(year_rent_start):(year_rent_end+1)] = annual_rent    # Annual rent payments\n",
    "\n",
    "base_annual_expenses = np.zeros(len(years))\n",
    "base_annual_expenses[1:7] = 3000    # Budget expenses (not housing or transportation) - includes cost of phone and computer\n",
    "base_annual_expenses[7::] = 20000   # Annual living expenses (not housing or transportation) according to studies\n",
    "\n",
    "transportation = np.zeros(len(years))\n",
    "transportation[1:7] = 750  # annual transportation expenses\n",
    "transportation[7::] = 6000\n",
    "transportation[year_of_car_purchase] = transportation[year_of_car_purchase] + price_of_car   # Cost of car outright\n",
    "\n",
    "medical = np.zeros(len(years))\n",
    "medical[1:43] = 1200\n",
    "medical[43::] = 6500 # Cost based off emperical data\n",
    "\n",
    "# ASSESTS\n",
    "home = np.zeros(len(years))\n",
    "home[year_of_purchase:(year_of_purchase + loan_length)] = annual_mortgage_expenses # mortgage\n",
    "home[year_of_purchase::] = home[year_of_purchase::] +  annual_home_expenses\n",
    "home[year_of_purchase] = home[year_of_purchase] + down_payment    # down payment\n",
    "\n",
    "expenses = rent + base_annual_expenses + transportation + medical + home     # make sure expenses aren't subtracted fro IRA\n",
    "\n",
    "\n",
    "\n",
    "\n",
    "# INVESTMENT MODEL --------------------------------------------------------------------\n",
    "investment = list()\n",
    "\n",
    "IRA = np.zeros(len(years))\n",
    "IRA[0] = init_ira\n",
    "\n",
    "Brokerage = np.zeros(len(years))\n",
    "Brokerage[0] = init_brok\n",
    "\n",
    "average_return = 7.5 / 100    # VTSAX average annual return since inception    --- includes inflation\n",
    "\n",
    "# IRA contribution yearly\n",
    "IRA_contriubtion = np.zeros(len(years))\n",
    "IRA_contriubtion[1:(retire_year+1)] = annual_ira\n",
    "\n",
    "# Brokerage investment as % of yearly income - expenses\n",
    "Brokerage_investment = np.zeros(len(years))\n",
    "for i in range(0,(retire_year+1)):\n",
    "    if (income[i] - expenses[i]) > 0:\n",
    "        Brokerage_investment[i] = (income[i] - expenses[i]) * investment_rate  # Investing half of available cash\n",
    "    else:\n",
    "        Brokerage_investment[i] = 0\n",
    "Brokerage_investment[(retire_year+1):(retire_year+1+years_after_investing)] = invest_after             # invest $5000 for 5 years after I retire\n",
    "Brokerage_investment[0:(year_salary_begin)] = 0\n",
    "\n",
    "for i in range(len(years)):\n",
    "    if i == 0:\n",
    "        investment.append( IRA[0] + Brokerage[0] )\n",
    "    else:\n",
    "        IRA[i] = ( (IRA[i-1] + IRA[i-1]*average_return) + IRA_contriubtion[i])\n",
    "        Brokerage[i] = ( (Brokerage[i-1] + Brokerage[i-1]*average_return) + Brokerage_investment[i])\n",
    "        investment.append(Brokerage[i] + IRA[i])\n",
    "            "
   ]
  },
  {
   "cell_type": "code",
   "execution_count": 241,
   "metadata": {},
   "outputs": [
    {
     "data": {
      "image/png": "[encoded data removed]",
      "text/plain": [
       "<Figure size 432x288 with 1 Axes>"
      ]
     },
     "metadata": {
      "needs_background": "light"
     },
     "output_type": "display_data"
    }
   ],
   "source": [
    "# Income, expenses, and investments over time\n",
    "l1 = plt.scatter(years,income,color=\"green\")\n",
    "l2 = plt.scatter(years,expenses,color=\"red\")\n",
    "l3 = plt.scatter(years,Brokerage_investment,color=\"orange\")\n",
    "l4 = plt.axvline(x=retire_year,color = \"green\", linestyle = \":\")\n",
    "plt.ticklabel_format(style=\"plain\")\n",
    "plt.legend((l1,l2,l3,l4),(\"Income\",\"Expenses\",\"Investments\",\"Retirement\"))\n",
    "plt.show()"
   ]
  },
  {
   "cell_type": "code",
   "execution_count": 242,
   "metadata": {},
   "outputs": [
    {
     "data": {
      "image/png": "[encoded data removed]",
      "text/plain": [
       "<Figure size 432x288 with 1 Axes>"
      ]
     },
     "metadata": {
      "needs_background": "light"
     },
     "output_type": "display_data"
    },
    {
     "name": "stdout",
     "output_type": "stream",
     "text": [
      "Income vs expenses\n"
     ]
    }
   ],
   "source": [
    "# Annual income vs expenses\n",
    "plt.scatter(years,income-expenses-Brokerage_investment,color = \"green\")\n",
    "plt.axhline(y=0, color = \"green\")\n",
    "plt.show()\n",
    "print(\"Income vs expenses\")"
   ]
  },
  {
   "cell_type": "code",
   "execution_count": 243,
   "metadata": {},
   "outputs": [
    {
     "data": {
      "image/png": "[encoded data removed]",
      "text/plain": [
       "<Figure size 432x288 with 1 Axes>"
      ]
     },
     "metadata": {
      "needs_background": "light"
     },
     "output_type": "display_data"
    },
    {
     "name": "stdout",
     "output_type": "stream",
     "text": [
      "Avilable Cash\n",
      "2022:    0\n",
      "2023:    -16775\n",
      "2024:    22075\n",
      "2025:    62050\n",
      "2026:    103600\n",
      "2027:    123175\n",
      "2028:    169225\n",
      "2029:    204850\n",
      "2030:    243850\n",
      "2031:    286675\n",
      "2032:    333775\n",
      "2033:    385600\n",
      "2034:    442600\n",
      "2035:    505225\n",
      "2036:    573925\n",
      "2037:    649150\n",
      "2038:    731350\n",
      "2039:    820975\n",
      "2040:    918475\n",
      "2041:    1024300\n",
      "2042:    1138900\n",
      "2043:    1253500\n",
      "2044:    1368100\n",
      "2045:    1482700\n",
      "2046:    1597300\n",
      "2047:    1711900\n",
      "2048:    1826500\n",
      "2049:    1941100\n",
      "2050:    2055700\n",
      "2051:    2170300\n",
      "2052:    2284900\n"
     ]
    }
   ],
   "source": [
    "# Available Cash balance:\n",
    "available_cash = np.zeros(len(years))\n",
    "for i in range(1,len(years)):\n",
    "    available_cash[i] = available_cash[i-1] + income[i]-expenses[i]-Brokerage_investment[i]\n",
    "    \n",
    "plt.scatter(years[0:(retire_year+2)], available_cash[0:(retire_year+2)], color = \"green\")\n",
    "plt.show()\n",
    "print(\"Avilable Cash\")\n",
    "for i in range(len(available_cash[0:(retire_year+1)])):\n",
    "    print(str(int(x[i]))+\":    \"+str(round(float(available_cash[i]))))"
   ]
  },
  {
   "cell_type": "code",
   "execution_count": 239,
   "metadata": {},
   "outputs": [
    {
     "name": "stdout",
     "output_type": "stream",
     "text": [
      "Projected net wealth by year:\n",
      "2022:    79658\n",
      "2023:    135129\n",
      "2024:    158919\n",
      "2025:    199384\n",
      "2026:    244102\n",
      "2027:    253640\n",
      "2028:    331485\n",
      "2029:    369075\n",
      "2030:    426076\n",
      "2031:    489831\n",
      "2032:    561081\n",
      "2033:    640619\n",
      "2034:    729295\n",
      "2035:    828015\n",
      "2036:    937752\n",
      "2037:    1059545\n",
      "2038:    1194508\n",
      "2039:    1343829\n",
      "2040:    1508783\n",
      "2041:    1690732\n",
      "2042:    1891136\n",
      "2043:    2096178\n",
      "2044:    2315573\n",
      "2045:    2550326\n",
      "2046:    2801511\n",
      "2047:    3070280\n",
      "2048:    3357862\n",
      "2049:    3665575\n",
      "2050:    3994828\n",
      "2051:    4347129\n",
      "2052:    4724091\n",
      "2053:    4928052\n",
      "2054:    5226817\n",
      "2055:    5599996\n",
      "2056:    5999298\n",
      "2057:    6426551\n",
      "2058:    6883711\n",
      "2059:    7367523\n",
      "2060:    7885201\n",
      "2061:    8439117\n",
      "2062:    9031807\n",
      "2063:    9665986\n",
      "2064:    10344557\n",
      "2065:    11065327\n",
      "2066:    11842223\n",
      "2067:    12673502\n",
      "2068:    13562970\n",
      "2069:    14514700\n",
      "2070:    15533052\n",
      "2071:    16622689\n",
      "2072:    17788600\n",
      "2073:    19036125\n",
      "2074:    20370976\n",
      "2075:    21799268\n",
      "2076:    23327539\n",
      "2077:    24962790\n",
      "2078:    26712508\n",
      "2079:    28584707\n",
      "2080:    30587959\n",
      "2081:    32731439\n",
      "2082:    35024962\n",
      "2083:    37479033\n",
      "2084:    40104888\n",
      "2085:    42914553\n",
      "2086:    45920895\n",
      "2087:    49137680\n",
      "2088:    52579640\n",
      "2089:    56262538\n",
      "2090:    60203239\n"
     ]
    }
   ],
   "source": [
    "# Net Wealth qualifies as raw savings, investments, and paid home value\n",
    "net = income + investment - expenses - IRA_contriubtion - Brokerage_investment + home - ((home + annual_home_expenses) * (intrest_rate/100))\n",
    "print(\"Projected net wealth by year:\")\n",
    "for i in range(len(x)):\n",
    "    print(str(int(x[i]))+\":    \"+str(round(float(net[i]))))"
   ]
  },
  {
   "cell_type": "code",
   "execution_count": 229,
   "metadata": {},
   "outputs": [
    {
     "data": {
      "image/png": "[encoded data removed]",
      "text/plain": [
       "<Figure size 432x288 with 1 Axes>"
      ]
     },
     "metadata": {
      "needs_background": "light"
     },
     "output_type": "display_data"
    }
   ],
   "source": [
    "# Where does the money come from?\n",
    "adj_income = income - expenses\n",
    "adj_investment = adj_income + investment\n",
    "\n",
    "plt.plot(years,adj_income,color=\"black\")\n",
    "plt.plot(years,adj_investment,color=\"black\")\n",
    "plt.fill_between(years,adj_income,0,color='blue')\n",
    "plt.fill_between(years,adj_income,adj_investment,color='red')\n",
    "plt.axhline(y=1000000,color = \"green\")\n",
    "\n",
    "plt.show()"
   ]
  },
  {
   "cell_type": "code",
   "execution_count": 230,
   "metadata": {},
   "outputs": [
    {
     "data": {
      "image/png": "[encoded data removed]",
      "text/plain": [
       "<Figure size 432x288 with 1 Axes>"
      ]
     },
     "metadata": {
      "needs_background": "light"
     },
     "output_type": "display_data"
    }
   ],
   "source": [
    "# Where does the money come from? - first 20 years\n",
    "\n",
    "plt.plot(years[0:20],adj_income[0:20],color=\"black\")\n",
    "plt.plot(years[0:20],adj_investment[0:20],color=\"black\")\n",
    "plt.fill_between(years[0:20],adj_income[0:20],0,color='blue')\n",
    "plt.fill_between(years[0:20],adj_income[0:20],adj_investment[0:20],color='red')\n",
    "plt.axhline(y=1000000,color = \"green\")\n",
    "\n",
    "plt.show()"
   ]
  },
  {
   "cell_type": "code",
   "execution_count": null,
   "metadata": {},
   "outputs": [],
   "source": []
  },
  {
   "cell_type": "code",
   "execution_count": null,
   "metadata": {},
   "outputs": [],
   "source": []
  },
  {
   "cell_type": "code",
   "execution_count": null,
   "metadata": {},
   "outputs": [],
   "source": []
  },
  {
   "cell_type": "code",
   "execution_count": null,
   "metadata": {},
   "outputs": [],
   "source": []
  },
  {
   "cell_type": "code",
   "execution_count": null,
   "metadata": {},
   "outputs": [],
   "source": []
  }
 ],
 "metadata": {
  "kernelspec": {
   "display_name": "Python 3",
   "language": "python",
   "name": "python3"
  },
  "language_info": {
   "codemirror_mode": {
    "name": "ipython",
    "version": 3
   },
   "file_extension": ".py",
   "mimetype": "text/x-python",
   "name": "python",
   "nbconvert_exporter": "python",
   "pygments_lexer": "ipython3",
   "version": "3.8.8"
  }
 },
 "nbformat": 4,
 "nbformat_minor": 4
}
